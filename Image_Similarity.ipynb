{
  "nbformat": 4,
  "nbformat_minor": 0,
  "metadata": {
    "colab": {
      "name": "Image Similarity.ipynb",
      "provenance": [],
      "collapsed_sections": [],
      "authorship_tag": "ABX9TyOeZkyOBgo+TV5RwEP0MqjQ",
      "include_colab_link": true
    },
    "kernelspec": {
      "name": "python3",
      "display_name": "Python 3"
    },
    "language_info": {
      "name": "python"
    },
    "widgets": {
      "application/vnd.jupyter.widget-state+json": {
        "fe647162543d4ce8bf08a11eafeb6ebc": {
          "model_module": "@jupyter-widgets/controls",
          "model_name": "VBoxModel",
          "model_module_version": "1.5.0",
          "state": {
            "_dom_classes": [
              "widget-interact"
            ],
            "_model_module": "@jupyter-widgets/controls",
            "_model_module_version": "1.5.0",
            "_model_name": "VBoxModel",
            "_view_count": null,
            "_view_module": "@jupyter-widgets/controls",
            "_view_module_version": "1.5.0",
            "_view_name": "VBoxView",
            "box_style": "",
            "children": [
              "IPY_MODEL_6d5c599fd5314339aa5f60b1259583fd",
              "IPY_MODEL_5e036437b99b43edad5d8f4494952c62"
            ],
            "layout": "IPY_MODEL_ce065fc03ff24a6685702573074a5e77"
          }
        },
        "6d5c599fd5314339aa5f60b1259583fd": {
          "model_module": "@jupyter-widgets/controls",
          "model_name": "IntSliderModel",
          "model_module_version": "1.5.0",
          "state": {
            "_dom_classes": [],
            "_model_module": "@jupyter-widgets/controls",
            "_model_module_version": "1.5.0",
            "_model_name": "IntSliderModel",
            "_view_count": null,
            "_view_module": "@jupyter-widgets/controls",
            "_view_module_version": "1.5.0",
            "_view_name": "IntSliderView",
            "continuous_update": true,
            "description": "index",
            "description_tooltip": null,
            "disabled": false,
            "layout": "IPY_MODEL_f521dc0813e64dccbd21670ec7bd0262",
            "max": 1000,
            "min": 0,
            "orientation": "horizontal",
            "readout": true,
            "readout_format": "d",
            "step": 1,
            "style": "IPY_MODEL_2600c2cc16a240db827ab828fb0a84f8",
            "value": 12
          }
        },
        "5e036437b99b43edad5d8f4494952c62": {
          "model_module": "@jupyter-widgets/output",
          "model_name": "OutputModel",
          "model_module_version": "1.0.0",
          "state": {
            "_dom_classes": [],
            "_model_module": "@jupyter-widgets/output",
            "_model_module_version": "1.0.0",
            "_model_name": "OutputModel",
            "_view_count": null,
            "_view_module": "@jupyter-widgets/output",
            "_view_module_version": "1.0.0",
            "_view_name": "OutputView",
            "layout": "IPY_MODEL_7bc85b8f9eb642f39b7250105338fd80",
            "msg_id": "",
            "outputs": [
              {
                "output_type": "display_data",
                "data": {
                  "text/plain": "<Figure size 144x144 with 1 Axes>",
                  "image/png": "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\n"
                },
                "metadata": {
                  "needs_background": "light"
                }
              }
            ]
          }
        },
        "ce065fc03ff24a6685702573074a5e77": {
          "model_module": "@jupyter-widgets/base",
          "model_name": "LayoutModel",
          "model_module_version": "1.2.0",
          "state": {
            "_model_module": "@jupyter-widgets/base",
            "_model_module_version": "1.2.0",
            "_model_name": "LayoutModel",
            "_view_count": null,
            "_view_module": "@jupyter-widgets/base",
            "_view_module_version": "1.2.0",
            "_view_name": "LayoutView",
            "align_content": null,
            "align_items": null,
            "align_self": null,
            "border": null,
            "bottom": null,
            "display": null,
            "flex": null,
            "flex_flow": null,
            "grid_area": null,
            "grid_auto_columns": null,
            "grid_auto_flow": null,
            "grid_auto_rows": null,
            "grid_column": null,
            "grid_gap": null,
            "grid_row": null,
            "grid_template_areas": null,
            "grid_template_columns": null,
            "grid_template_rows": null,
            "height": null,
            "justify_content": null,
            "justify_items": null,
            "left": null,
            "margin": null,
            "max_height": null,
            "max_width": null,
            "min_height": null,
            "min_width": null,
            "object_fit": null,
            "object_position": null,
            "order": null,
            "overflow": null,
            "overflow_x": null,
            "overflow_y": null,
            "padding": null,
            "right": null,
            "top": null,
            "visibility": null,
            "width": null
          }
        },
        "f521dc0813e64dccbd21670ec7bd0262": {
          "model_module": "@jupyter-widgets/base",
          "model_name": "LayoutModel",
          "model_module_version": "1.2.0",
          "state": {
            "_model_module": "@jupyter-widgets/base",
            "_model_module_version": "1.2.0",
            "_model_name": "LayoutModel",
            "_view_count": null,
            "_view_module": "@jupyter-widgets/base",
            "_view_module_version": "1.2.0",
            "_view_name": "LayoutView",
            "align_content": null,
            "align_items": null,
            "align_self": null,
            "border": null,
            "bottom": null,
            "display": null,
            "flex": null,
            "flex_flow": null,
            "grid_area": null,
            "grid_auto_columns": null,
            "grid_auto_flow": null,
            "grid_auto_rows": null,
            "grid_column": null,
            "grid_gap": null,
            "grid_row": null,
            "grid_template_areas": null,
            "grid_template_columns": null,
            "grid_template_rows": null,
            "height": null,
            "justify_content": null,
            "justify_items": null,
            "left": null,
            "margin": null,
            "max_height": null,
            "max_width": null,
            "min_height": null,
            "min_width": null,
            "object_fit": null,
            "object_position": null,
            "order": null,
            "overflow": null,
            "overflow_x": null,
            "overflow_y": null,
            "padding": null,
            "right": null,
            "top": null,
            "visibility": null,
            "width": null
          }
        },
        "2600c2cc16a240db827ab828fb0a84f8": {
          "model_module": "@jupyter-widgets/controls",
          "model_name": "SliderStyleModel",
          "model_module_version": "1.5.0",
          "state": {
            "_model_module": "@jupyter-widgets/controls",
            "_model_module_version": "1.5.0",
            "_model_name": "SliderStyleModel",
            "_view_count": null,
            "_view_module": "@jupyter-widgets/base",
            "_view_module_version": "1.2.0",
            "_view_name": "StyleView",
            "description_width": "",
            "handle_color": null
          }
        },
        "7bc85b8f9eb642f39b7250105338fd80": {
          "model_module": "@jupyter-widgets/base",
          "model_name": "LayoutModel",
          "model_module_version": "1.2.0",
          "state": {
            "_model_module": "@jupyter-widgets/base",
            "_model_module_version": "1.2.0",
            "_model_name": "LayoutModel",
            "_view_count": null,
            "_view_module": "@jupyter-widgets/base",
            "_view_module_version": "1.2.0",
            "_view_name": "LayoutView",
            "align_content": null,
            "align_items": null,
            "align_self": null,
            "border": null,
            "bottom": null,
            "display": null,
            "flex": null,
            "flex_flow": null,
            "grid_area": null,
            "grid_auto_columns": null,
            "grid_auto_flow": null,
            "grid_auto_rows": null,
            "grid_column": null,
            "grid_gap": null,
            "grid_row": null,
            "grid_template_areas": null,
            "grid_template_columns": null,
            "grid_template_rows": null,
            "height": null,
            "justify_content": null,
            "justify_items": null,
            "left": null,
            "margin": null,
            "max_height": null,
            "max_width": null,
            "min_height": null,
            "min_width": null,
            "object_fit": null,
            "object_position": null,
            "order": null,
            "overflow": null,
            "overflow_x": null,
            "overflow_y": null,
            "padding": null,
            "right": null,
            "top": null,
            "visibility": null,
            "width": null
          }
        },
        "900aac7d97224a469e2e406ce1f8a92f": {
          "model_module": "@jupyter-widgets/controls",
          "model_name": "VBoxModel",
          "model_module_version": "1.5.0",
          "state": {
            "_dom_classes": [
              "widget-interact"
            ],
            "_model_module": "@jupyter-widgets/controls",
            "_model_module_version": "1.5.0",
            "_model_name": "VBoxModel",
            "_view_count": null,
            "_view_module": "@jupyter-widgets/controls",
            "_view_module_version": "1.5.0",
            "_view_name": "VBoxView",
            "box_style": "",
            "children": [
              "IPY_MODEL_3e358cc581a54a4ca73aedd88c4e352f",
              "IPY_MODEL_76bf83d570d4401f9af8591867b852e4",
              "IPY_MODEL_d745f19ca082437a8505dcdd0e33b59a"
            ],
            "layout": "IPY_MODEL_5af62e4341cf4500b39bfc6f25845d62"
          }
        },
        "3e358cc581a54a4ca73aedd88c4e352f": {
          "model_module": "@jupyter-widgets/controls",
          "model_name": "IntSliderModel",
          "model_module_version": "1.5.0",
          "state": {
            "_dom_classes": [],
            "_model_module": "@jupyter-widgets/controls",
            "_model_module_version": "1.5.0",
            "_model_name": "IntSliderModel",
            "_view_count": null,
            "_view_module": "@jupyter-widgets/controls",
            "_view_module_version": "1.5.0",
            "_view_name": "IntSliderView",
            "continuous_update": true,
            "description": "first",
            "description_tooltip": null,
            "disabled": false,
            "layout": "IPY_MODEL_059be90a266241338038b403847ae8c8",
            "max": 299,
            "min": 0,
            "orientation": "horizontal",
            "readout": true,
            "readout_format": "d",
            "step": 1,
            "style": "IPY_MODEL_ae04e39346814a57b5f9bf16034da503",
            "value": 0
          }
        },
        "76bf83d570d4401f9af8591867b852e4": {
          "model_module": "@jupyter-widgets/controls",
          "model_name": "IntSliderModel",
          "model_module_version": "1.5.0",
          "state": {
            "_dom_classes": [],
            "_model_module": "@jupyter-widgets/controls",
            "_model_module_version": "1.5.0",
            "_model_name": "IntSliderModel",
            "_view_count": null,
            "_view_module": "@jupyter-widgets/controls",
            "_view_module_version": "1.5.0",
            "_view_name": "IntSliderView",
            "continuous_update": true,
            "description": "second",
            "description_tooltip": null,
            "disabled": false,
            "layout": "IPY_MODEL_71d3fff48fa048c1bbc3659011e014a0",
            "max": 299,
            "min": 0,
            "orientation": "horizontal",
            "readout": true,
            "readout_format": "d",
            "step": 1,
            "style": "IPY_MODEL_77a8fd3234cc44adb64415149c82dbab",
            "value": 28
          }
        },
        "d745f19ca082437a8505dcdd0e33b59a": {
          "model_module": "@jupyter-widgets/output",
          "model_name": "OutputModel",
          "model_module_version": "1.0.0",
          "state": {
            "_dom_classes": [],
            "_model_module": "@jupyter-widgets/output",
            "_model_module_version": "1.0.0",
            "_model_name": "OutputModel",
            "_view_count": null,
            "_view_module": "@jupyter-widgets/output",
            "_view_module_version": "1.0.0",
            "_view_name": "OutputView",
            "layout": "IPY_MODEL_602ccd1234a84651b4630bd999272dae",
            "msg_id": "",
            "outputs": [
              {
                "output_type": "display_data",
                "data": {
                  "text/plain": "<Figure size 576x288 with 3 Axes>",
                  "image/png": "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\n"
                },
                "metadata": {
                  "needs_background": "light"
                }
              }
            ]
          }
        },
        "5af62e4341cf4500b39bfc6f25845d62": {
          "model_module": "@jupyter-widgets/base",
          "model_name": "LayoutModel",
          "model_module_version": "1.2.0",
          "state": {
            "_model_module": "@jupyter-widgets/base",
            "_model_module_version": "1.2.0",
            "_model_name": "LayoutModel",
            "_view_count": null,
            "_view_module": "@jupyter-widgets/base",
            "_view_module_version": "1.2.0",
            "_view_name": "LayoutView",
            "align_content": null,
            "align_items": null,
            "align_self": null,
            "border": null,
            "bottom": null,
            "display": null,
            "flex": null,
            "flex_flow": null,
            "grid_area": null,
            "grid_auto_columns": null,
            "grid_auto_flow": null,
            "grid_auto_rows": null,
            "grid_column": null,
            "grid_gap": null,
            "grid_row": null,
            "grid_template_areas": null,
            "grid_template_columns": null,
            "grid_template_rows": null,
            "height": null,
            "justify_content": null,
            "justify_items": null,
            "left": null,
            "margin": null,
            "max_height": null,
            "max_width": null,
            "min_height": null,
            "min_width": null,
            "object_fit": null,
            "object_position": null,
            "order": null,
            "overflow": null,
            "overflow_x": null,
            "overflow_y": null,
            "padding": null,
            "right": null,
            "top": null,
            "visibility": null,
            "width": null
          }
        },
        "059be90a266241338038b403847ae8c8": {
          "model_module": "@jupyter-widgets/base",
          "model_name": "LayoutModel",
          "model_module_version": "1.2.0",
          "state": {
            "_model_module": "@jupyter-widgets/base",
            "_model_module_version": "1.2.0",
            "_model_name": "LayoutModel",
            "_view_count": null,
            "_view_module": "@jupyter-widgets/base",
            "_view_module_version": "1.2.0",
            "_view_name": "LayoutView",
            "align_content": null,
            "align_items": null,
            "align_self": null,
            "border": null,
            "bottom": null,
            "display": null,
            "flex": null,
            "flex_flow": null,
            "grid_area": null,
            "grid_auto_columns": null,
            "grid_auto_flow": null,
            "grid_auto_rows": null,
            "grid_column": null,
            "grid_gap": null,
            "grid_row": null,
            "grid_template_areas": null,
            "grid_template_columns": null,
            "grid_template_rows": null,
            "height": null,
            "justify_content": null,
            "justify_items": null,
            "left": null,
            "margin": null,
            "max_height": null,
            "max_width": null,
            "min_height": null,
            "min_width": null,
            "object_fit": null,
            "object_position": null,
            "order": null,
            "overflow": null,
            "overflow_x": null,
            "overflow_y": null,
            "padding": null,
            "right": null,
            "top": null,
            "visibility": null,
            "width": null
          }
        },
        "ae04e39346814a57b5f9bf16034da503": {
          "model_module": "@jupyter-widgets/controls",
          "model_name": "SliderStyleModel",
          "model_module_version": "1.5.0",
          "state": {
            "_model_module": "@jupyter-widgets/controls",
            "_model_module_version": "1.5.0",
            "_model_name": "SliderStyleModel",
            "_view_count": null,
            "_view_module": "@jupyter-widgets/base",
            "_view_module_version": "1.2.0",
            "_view_name": "StyleView",
            "description_width": "",
            "handle_color": null
          }
        },
        "71d3fff48fa048c1bbc3659011e014a0": {
          "model_module": "@jupyter-widgets/base",
          "model_name": "LayoutModel",
          "model_module_version": "1.2.0",
          "state": {
            "_model_module": "@jupyter-widgets/base",
            "_model_module_version": "1.2.0",
            "_model_name": "LayoutModel",
            "_view_count": null,
            "_view_module": "@jupyter-widgets/base",
            "_view_module_version": "1.2.0",
            "_view_name": "LayoutView",
            "align_content": null,
            "align_items": null,
            "align_self": null,
            "border": null,
            "bottom": null,
            "display": null,
            "flex": null,
            "flex_flow": null,
            "grid_area": null,
            "grid_auto_columns": null,
            "grid_auto_flow": null,
            "grid_auto_rows": null,
            "grid_column": null,
            "grid_gap": null,
            "grid_row": null,
            "grid_template_areas": null,
            "grid_template_columns": null,
            "grid_template_rows": null,
            "height": null,
            "justify_content": null,
            "justify_items": null,
            "left": null,
            "margin": null,
            "max_height": null,
            "max_width": null,
            "min_height": null,
            "min_width": null,
            "object_fit": null,
            "object_position": null,
            "order": null,
            "overflow": null,
            "overflow_x": null,
            "overflow_y": null,
            "padding": null,
            "right": null,
            "top": null,
            "visibility": null,
            "width": null
          }
        },
        "77a8fd3234cc44adb64415149c82dbab": {
          "model_module": "@jupyter-widgets/controls",
          "model_name": "SliderStyleModel",
          "model_module_version": "1.5.0",
          "state": {
            "_model_module": "@jupyter-widgets/controls",
            "_model_module_version": "1.5.0",
            "_model_name": "SliderStyleModel",
            "_view_count": null,
            "_view_module": "@jupyter-widgets/base",
            "_view_module_version": "1.2.0",
            "_view_name": "StyleView",
            "description_width": "",
            "handle_color": null
          }
        },
        "602ccd1234a84651b4630bd999272dae": {
          "model_module": "@jupyter-widgets/base",
          "model_name": "LayoutModel",
          "model_module_version": "1.2.0",
          "state": {
            "_model_module": "@jupyter-widgets/base",
            "_model_module_version": "1.2.0",
            "_model_name": "LayoutModel",
            "_view_count": null,
            "_view_module": "@jupyter-widgets/base",
            "_view_module_version": "1.2.0",
            "_view_name": "LayoutView",
            "align_content": null,
            "align_items": null,
            "align_self": null,
            "border": null,
            "bottom": null,
            "display": null,
            "flex": null,
            "flex_flow": null,
            "grid_area": null,
            "grid_auto_columns": null,
            "grid_auto_flow": null,
            "grid_auto_rows": null,
            "grid_column": null,
            "grid_gap": null,
            "grid_row": null,
            "grid_template_areas": null,
            "grid_template_columns": null,
            "grid_template_rows": null,
            "height": null,
            "justify_content": null,
            "justify_items": null,
            "left": null,
            "margin": null,
            "max_height": null,
            "max_width": null,
            "min_height": null,
            "min_width": null,
            "object_fit": null,
            "object_position": null,
            "order": null,
            "overflow": null,
            "overflow_x": null,
            "overflow_y": null,
            "padding": null,
            "right": null,
            "top": null,
            "visibility": null,
            "width": null
          }
        },
        "44320835e745406dac7b379c74346ae5": {
          "model_module": "@jupyter-widgets/controls",
          "model_name": "VBoxModel",
          "model_module_version": "1.5.0",
          "state": {
            "_dom_classes": [
              "widget-interact"
            ],
            "_model_module": "@jupyter-widgets/controls",
            "_model_module_version": "1.5.0",
            "_model_name": "VBoxModel",
            "_view_count": null,
            "_view_module": "@jupyter-widgets/controls",
            "_view_module_version": "1.5.0",
            "_view_name": "VBoxView",
            "box_style": "",
            "children": [
              "IPY_MODEL_787d3675b4cb4f488d8f0488ee2825b6",
              "IPY_MODEL_dd326ef74b5948d7b843726348457695",
              "IPY_MODEL_5f3a0a7fdf164645b92804749c76cf53"
            ],
            "layout": "IPY_MODEL_acf8054f154a4ed09621491619319430"
          }
        },
        "787d3675b4cb4f488d8f0488ee2825b6": {
          "model_module": "@jupyter-widgets/controls",
          "model_name": "IntSliderModel",
          "model_module_version": "1.5.0",
          "state": {
            "_dom_classes": [],
            "_model_module": "@jupyter-widgets/controls",
            "_model_module_version": "1.5.0",
            "_model_name": "IntSliderModel",
            "_view_count": null,
            "_view_module": "@jupyter-widgets/controls",
            "_view_module_version": "1.5.0",
            "_view_name": "IntSliderView",
            "continuous_update": true,
            "description": "first",
            "description_tooltip": null,
            "disabled": false,
            "layout": "IPY_MODEL_714ecc1c130e45f383996f0d584e467f",
            "max": 299,
            "min": 0,
            "orientation": "horizontal",
            "readout": true,
            "readout_format": "d",
            "step": 1,
            "style": "IPY_MODEL_806a07ccd97b43169ce4fff33c72f5f1",
            "value": 149
          }
        },
        "dd326ef74b5948d7b843726348457695": {
          "model_module": "@jupyter-widgets/controls",
          "model_name": "IntSliderModel",
          "model_module_version": "1.5.0",
          "state": {
            "_dom_classes": [],
            "_model_module": "@jupyter-widgets/controls",
            "_model_module_version": "1.5.0",
            "_model_name": "IntSliderModel",
            "_view_count": null,
            "_view_module": "@jupyter-widgets/controls",
            "_view_module_version": "1.5.0",
            "_view_name": "IntSliderView",
            "continuous_update": true,
            "description": "second",
            "description_tooltip": null,
            "disabled": false,
            "layout": "IPY_MODEL_fbca5273e35349d7a3e6e9e0a656ffa2",
            "max": 299,
            "min": 0,
            "orientation": "horizontal",
            "readout": true,
            "readout_format": "d",
            "step": 1,
            "style": "IPY_MODEL_40bfa28f041f4de793a321b00a3dd087",
            "value": 149
          }
        },
        "5f3a0a7fdf164645b92804749c76cf53": {
          "model_module": "@jupyter-widgets/output",
          "model_name": "OutputModel",
          "model_module_version": "1.0.0",
          "state": {
            "_dom_classes": [],
            "_model_module": "@jupyter-widgets/output",
            "_model_module_version": "1.0.0",
            "_model_name": "OutputModel",
            "_view_count": null,
            "_view_module": "@jupyter-widgets/output",
            "_view_module_version": "1.0.0",
            "_view_name": "OutputView",
            "layout": "IPY_MODEL_969c3937fa5a4d9e8a6156722ed2e10c",
            "msg_id": "",
            "outputs": [
              {
                "output_type": "display_data",
                "data": {
                  "text/plain": "<Figure size 576x288 with 3 Axes>",
                  "image/png": "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\n"
                },
                "metadata": {
                  "needs_background": "light"
                }
              }
            ]
          }
        },
        "acf8054f154a4ed09621491619319430": {
          "model_module": "@jupyter-widgets/base",
          "model_name": "LayoutModel",
          "model_module_version": "1.2.0",
          "state": {
            "_model_module": "@jupyter-widgets/base",
            "_model_module_version": "1.2.0",
            "_model_name": "LayoutModel",
            "_view_count": null,
            "_view_module": "@jupyter-widgets/base",
            "_view_module_version": "1.2.0",
            "_view_name": "LayoutView",
            "align_content": null,
            "align_items": null,
            "align_self": null,
            "border": null,
            "bottom": null,
            "display": null,
            "flex": null,
            "flex_flow": null,
            "grid_area": null,
            "grid_auto_columns": null,
            "grid_auto_flow": null,
            "grid_auto_rows": null,
            "grid_column": null,
            "grid_gap": null,
            "grid_row": null,
            "grid_template_areas": null,
            "grid_template_columns": null,
            "grid_template_rows": null,
            "height": null,
            "justify_content": null,
            "justify_items": null,
            "left": null,
            "margin": null,
            "max_height": null,
            "max_width": null,
            "min_height": null,
            "min_width": null,
            "object_fit": null,
            "object_position": null,
            "order": null,
            "overflow": null,
            "overflow_x": null,
            "overflow_y": null,
            "padding": null,
            "right": null,
            "top": null,
            "visibility": null,
            "width": null
          }
        },
        "714ecc1c130e45f383996f0d584e467f": {
          "model_module": "@jupyter-widgets/base",
          "model_name": "LayoutModel",
          "model_module_version": "1.2.0",
          "state": {
            "_model_module": "@jupyter-widgets/base",
            "_model_module_version": "1.2.0",
            "_model_name": "LayoutModel",
            "_view_count": null,
            "_view_module": "@jupyter-widgets/base",
            "_view_module_version": "1.2.0",
            "_view_name": "LayoutView",
            "align_content": null,
            "align_items": null,
            "align_self": null,
            "border": null,
            "bottom": null,
            "display": null,
            "flex": null,
            "flex_flow": null,
            "grid_area": null,
            "grid_auto_columns": null,
            "grid_auto_flow": null,
            "grid_auto_rows": null,
            "grid_column": null,
            "grid_gap": null,
            "grid_row": null,
            "grid_template_areas": null,
            "grid_template_columns": null,
            "grid_template_rows": null,
            "height": null,
            "justify_content": null,
            "justify_items": null,
            "left": null,
            "margin": null,
            "max_height": null,
            "max_width": null,
            "min_height": null,
            "min_width": null,
            "object_fit": null,
            "object_position": null,
            "order": null,
            "overflow": null,
            "overflow_x": null,
            "overflow_y": null,
            "padding": null,
            "right": null,
            "top": null,
            "visibility": null,
            "width": null
          }
        },
        "806a07ccd97b43169ce4fff33c72f5f1": {
          "model_module": "@jupyter-widgets/controls",
          "model_name": "SliderStyleModel",
          "model_module_version": "1.5.0",
          "state": {
            "_model_module": "@jupyter-widgets/controls",
            "_model_module_version": "1.5.0",
            "_model_name": "SliderStyleModel",
            "_view_count": null,
            "_view_module": "@jupyter-widgets/base",
            "_view_module_version": "1.2.0",
            "_view_name": "StyleView",
            "description_width": "",
            "handle_color": null
          }
        },
        "fbca5273e35349d7a3e6e9e0a656ffa2": {
          "model_module": "@jupyter-widgets/base",
          "model_name": "LayoutModel",
          "model_module_version": "1.2.0",
          "state": {
            "_model_module": "@jupyter-widgets/base",
            "_model_module_version": "1.2.0",
            "_model_name": "LayoutModel",
            "_view_count": null,
            "_view_module": "@jupyter-widgets/base",
            "_view_module_version": "1.2.0",
            "_view_name": "LayoutView",
            "align_content": null,
            "align_items": null,
            "align_self": null,
            "border": null,
            "bottom": null,
            "display": null,
            "flex": null,
            "flex_flow": null,
            "grid_area": null,
            "grid_auto_columns": null,
            "grid_auto_flow": null,
            "grid_auto_rows": null,
            "grid_column": null,
            "grid_gap": null,
            "grid_row": null,
            "grid_template_areas": null,
            "grid_template_columns": null,
            "grid_template_rows": null,
            "height": null,
            "justify_content": null,
            "justify_items": null,
            "left": null,
            "margin": null,
            "max_height": null,
            "max_width": null,
            "min_height": null,
            "min_width": null,
            "object_fit": null,
            "object_position": null,
            "order": null,
            "overflow": null,
            "overflow_x": null,
            "overflow_y": null,
            "padding": null,
            "right": null,
            "top": null,
            "visibility": null,
            "width": null
          }
        },
        "40bfa28f041f4de793a321b00a3dd087": {
          "model_module": "@jupyter-widgets/controls",
          "model_name": "SliderStyleModel",
          "model_module_version": "1.5.0",
          "state": {
            "_model_module": "@jupyter-widgets/controls",
            "_model_module_version": "1.5.0",
            "_model_name": "SliderStyleModel",
            "_view_count": null,
            "_view_module": "@jupyter-widgets/base",
            "_view_module_version": "1.2.0",
            "_view_name": "StyleView",
            "description_width": "",
            "handle_color": null
          }
        },
        "969c3937fa5a4d9e8a6156722ed2e10c": {
          "model_module": "@jupyter-widgets/base",
          "model_name": "LayoutModel",
          "model_module_version": "1.2.0",
          "state": {
            "_model_module": "@jupyter-widgets/base",
            "_model_module_version": "1.2.0",
            "_model_name": "LayoutModel",
            "_view_count": null,
            "_view_module": "@jupyter-widgets/base",
            "_view_module_version": "1.2.0",
            "_view_name": "LayoutView",
            "align_content": null,
            "align_items": null,
            "align_self": null,
            "border": null,
            "bottom": null,
            "display": null,
            "flex": null,
            "flex_flow": null,
            "grid_area": null,
            "grid_auto_columns": null,
            "grid_auto_flow": null,
            "grid_auto_rows": null,
            "grid_column": null,
            "grid_gap": null,
            "grid_row": null,
            "grid_template_areas": null,
            "grid_template_columns": null,
            "grid_template_rows": null,
            "height": null,
            "justify_content": null,
            "justify_items": null,
            "left": null,
            "margin": null,
            "max_height": null,
            "max_width": null,
            "min_height": null,
            "min_width": null,
            "object_fit": null,
            "object_position": null,
            "order": null,
            "overflow": null,
            "overflow_x": null,
            "overflow_y": null,
            "padding": null,
            "right": null,
            "top": null,
            "visibility": null,
            "width": null
          }
        },
        "dd3c8339313b445ca79255063303b23e": {
          "model_module": "@jupyter-widgets/controls",
          "model_name": "VBoxModel",
          "model_module_version": "1.5.0",
          "state": {
            "_dom_classes": [
              "widget-interact"
            ],
            "_model_module": "@jupyter-widgets/controls",
            "_model_module_version": "1.5.0",
            "_model_name": "VBoxModel",
            "_view_count": null,
            "_view_module": "@jupyter-widgets/controls",
            "_view_module_version": "1.5.0",
            "_view_name": "VBoxView",
            "box_style": "",
            "children": [
              "IPY_MODEL_b71a8593b6d4435d83af17631df9d226",
              "IPY_MODEL_5fb12307ea2144b2b0917536ef0eae16"
            ],
            "layout": "IPY_MODEL_79602a012f6e4c8f9f4fb7a40703da61"
          }
        },
        "b71a8593b6d4435d83af17631df9d226": {
          "model_module": "@jupyter-widgets/controls",
          "model_name": "IntSliderModel",
          "model_module_version": "1.5.0",
          "state": {
            "_dom_classes": [],
            "_model_module": "@jupyter-widgets/controls",
            "_model_module_version": "1.5.0",
            "_model_name": "IntSliderModel",
            "_view_count": null,
            "_view_module": "@jupyter-widgets/controls",
            "_view_module_version": "1.5.0",
            "_view_name": "IntSliderView",
            "continuous_update": true,
            "description": "index",
            "description_tooltip": null,
            "disabled": false,
            "layout": "IPY_MODEL_b0868ade6595472abc7a5d051980b874",
            "max": 299,
            "min": 0,
            "orientation": "horizontal",
            "readout": true,
            "readout_format": "d",
            "step": 1,
            "style": "IPY_MODEL_ffc0ac122c794c519172a1e706dacf87",
            "value": 7
          }
        },
        "5fb12307ea2144b2b0917536ef0eae16": {
          "model_module": "@jupyter-widgets/output",
          "model_name": "OutputModel",
          "model_module_version": "1.0.0",
          "state": {
            "_dom_classes": [],
            "_model_module": "@jupyter-widgets/output",
            "_model_module_version": "1.0.0",
            "_model_name": "OutputModel",
            "_view_count": null,
            "_view_module": "@jupyter-widgets/output",
            "_view_module_version": "1.0.0",
            "_view_name": "OutputView",
            "layout": "IPY_MODEL_f3e7f0533cb045938663f1df8f89e56d",
            "msg_id": "",
            "outputs": [
              {
                "output_type": "display_data",
                "data": {
                  "text/plain": "<Figure size 432x288 with 2 Axes>",
                  "image/png": "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\n"
                },
                "metadata": {
                  "needs_background": "light"
                }
              }
            ]
          }
        },
        "79602a012f6e4c8f9f4fb7a40703da61": {
          "model_module": "@jupyter-widgets/base",
          "model_name": "LayoutModel",
          "model_module_version": "1.2.0",
          "state": {
            "_model_module": "@jupyter-widgets/base",
            "_model_module_version": "1.2.0",
            "_model_name": "LayoutModel",
            "_view_count": null,
            "_view_module": "@jupyter-widgets/base",
            "_view_module_version": "1.2.0",
            "_view_name": "LayoutView",
            "align_content": null,
            "align_items": null,
            "align_self": null,
            "border": null,
            "bottom": null,
            "display": null,
            "flex": null,
            "flex_flow": null,
            "grid_area": null,
            "grid_auto_columns": null,
            "grid_auto_flow": null,
            "grid_auto_rows": null,
            "grid_column": null,
            "grid_gap": null,
            "grid_row": null,
            "grid_template_areas": null,
            "grid_template_columns": null,
            "grid_template_rows": null,
            "height": null,
            "justify_content": null,
            "justify_items": null,
            "left": null,
            "margin": null,
            "max_height": null,
            "max_width": null,
            "min_height": null,
            "min_width": null,
            "object_fit": null,
            "object_position": null,
            "order": null,
            "overflow": null,
            "overflow_x": null,
            "overflow_y": null,
            "padding": null,
            "right": null,
            "top": null,
            "visibility": null,
            "width": null
          }
        },
        "b0868ade6595472abc7a5d051980b874": {
          "model_module": "@jupyter-widgets/base",
          "model_name": "LayoutModel",
          "model_module_version": "1.2.0",
          "state": {
            "_model_module": "@jupyter-widgets/base",
            "_model_module_version": "1.2.0",
            "_model_name": "LayoutModel",
            "_view_count": null,
            "_view_module": "@jupyter-widgets/base",
            "_view_module_version": "1.2.0",
            "_view_name": "LayoutView",
            "align_content": null,
            "align_items": null,
            "align_self": null,
            "border": null,
            "bottom": null,
            "display": null,
            "flex": null,
            "flex_flow": null,
            "grid_area": null,
            "grid_auto_columns": null,
            "grid_auto_flow": null,
            "grid_auto_rows": null,
            "grid_column": null,
            "grid_gap": null,
            "grid_row": null,
            "grid_template_areas": null,
            "grid_template_columns": null,
            "grid_template_rows": null,
            "height": null,
            "justify_content": null,
            "justify_items": null,
            "left": null,
            "margin": null,
            "max_height": null,
            "max_width": null,
            "min_height": null,
            "min_width": null,
            "object_fit": null,
            "object_position": null,
            "order": null,
            "overflow": null,
            "overflow_x": null,
            "overflow_y": null,
            "padding": null,
            "right": null,
            "top": null,
            "visibility": null,
            "width": null
          }
        },
        "ffc0ac122c794c519172a1e706dacf87": {
          "model_module": "@jupyter-widgets/controls",
          "model_name": "SliderStyleModel",
          "model_module_version": "1.5.0",
          "state": {
            "_model_module": "@jupyter-widgets/controls",
            "_model_module_version": "1.5.0",
            "_model_name": "SliderStyleModel",
            "_view_count": null,
            "_view_module": "@jupyter-widgets/base",
            "_view_module_version": "1.2.0",
            "_view_name": "StyleView",
            "description_width": "",
            "handle_color": null
          }
        },
        "f3e7f0533cb045938663f1df8f89e56d": {
          "model_module": "@jupyter-widgets/base",
          "model_name": "LayoutModel",
          "model_module_version": "1.2.0",
          "state": {
            "_model_module": "@jupyter-widgets/base",
            "_model_module_version": "1.2.0",
            "_model_name": "LayoutModel",
            "_view_count": null,
            "_view_module": "@jupyter-widgets/base",
            "_view_module_version": "1.2.0",
            "_view_name": "LayoutView",
            "align_content": null,
            "align_items": null,
            "align_self": null,
            "border": null,
            "bottom": null,
            "display": null,
            "flex": null,
            "flex_flow": null,
            "grid_area": null,
            "grid_auto_columns": null,
            "grid_auto_flow": null,
            "grid_auto_rows": null,
            "grid_column": null,
            "grid_gap": null,
            "grid_row": null,
            "grid_template_areas": null,
            "grid_template_columns": null,
            "grid_template_rows": null,
            "height": null,
            "justify_content": null,
            "justify_items": null,
            "left": null,
            "margin": null,
            "max_height": null,
            "max_width": null,
            "min_height": null,
            "min_width": null,
            "object_fit": null,
            "object_position": null,
            "order": null,
            "overflow": null,
            "overflow_x": null,
            "overflow_y": null,
            "padding": null,
            "right": null,
            "top": null,
            "visibility": null,
            "width": null
          }
        },
        "fa54a03540a640afba8f360f74c7be92": {
          "model_module": "@jupyter-widgets/controls",
          "model_name": "VBoxModel",
          "model_module_version": "1.5.0",
          "state": {
            "_dom_classes": [
              "widget-interact"
            ],
            "_model_module": "@jupyter-widgets/controls",
            "_model_module_version": "1.5.0",
            "_model_name": "VBoxModel",
            "_view_count": null,
            "_view_module": "@jupyter-widgets/controls",
            "_view_module_version": "1.5.0",
            "_view_name": "VBoxView",
            "box_style": "",
            "children": [
              "IPY_MODEL_8793955671fb4809869be0bd63be75eb",
              "IPY_MODEL_70d230251da644b78846622b35dd422c"
            ],
            "layout": "IPY_MODEL_7a7efea238b9480180eb56cae14eab8a"
          }
        },
        "8793955671fb4809869be0bd63be75eb": {
          "model_module": "@jupyter-widgets/controls",
          "model_name": "IntSliderModel",
          "model_module_version": "1.5.0",
          "state": {
            "_dom_classes": [],
            "_model_module": "@jupyter-widgets/controls",
            "_model_module_version": "1.5.0",
            "_model_name": "IntSliderModel",
            "_view_count": null,
            "_view_module": "@jupyter-widgets/controls",
            "_view_module_version": "1.5.0",
            "_view_name": "IntSliderView",
            "continuous_update": true,
            "description": "index",
            "description_tooltip": null,
            "disabled": false,
            "layout": "IPY_MODEL_d118878f2ce24d318832e1b810654ea5",
            "max": 299,
            "min": 0,
            "orientation": "horizontal",
            "readout": true,
            "readout_format": "d",
            "step": 1,
            "style": "IPY_MODEL_eb9482454cb149b98b0ab553f2aec95a",
            "value": 6
          }
        },
        "70d230251da644b78846622b35dd422c": {
          "model_module": "@jupyter-widgets/output",
          "model_name": "OutputModel",
          "model_module_version": "1.0.0",
          "state": {
            "_dom_classes": [],
            "_model_module": "@jupyter-widgets/output",
            "_model_module_version": "1.0.0",
            "_model_name": "OutputModel",
            "_view_count": null,
            "_view_module": "@jupyter-widgets/output",
            "_view_module_version": "1.0.0",
            "_view_name": "OutputView",
            "layout": "IPY_MODEL_d77114f0757c4c02b70fd25bcc9e18a8",
            "msg_id": "",
            "outputs": [
              {
                "output_type": "display_data",
                "data": {
                  "text/plain": "<Figure size 432x288 with 2 Axes>",
                  "image/png": "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\n"
                },
                "metadata": {
                  "needs_background": "light"
                }
              }
            ]
          }
        },
        "7a7efea238b9480180eb56cae14eab8a": {
          "model_module": "@jupyter-widgets/base",
          "model_name": "LayoutModel",
          "model_module_version": "1.2.0",
          "state": {
            "_model_module": "@jupyter-widgets/base",
            "_model_module_version": "1.2.0",
            "_model_name": "LayoutModel",
            "_view_count": null,
            "_view_module": "@jupyter-widgets/base",
            "_view_module_version": "1.2.0",
            "_view_name": "LayoutView",
            "align_content": null,
            "align_items": null,
            "align_self": null,
            "border": null,
            "bottom": null,
            "display": null,
            "flex": null,
            "flex_flow": null,
            "grid_area": null,
            "grid_auto_columns": null,
            "grid_auto_flow": null,
            "grid_auto_rows": null,
            "grid_column": null,
            "grid_gap": null,
            "grid_row": null,
            "grid_template_areas": null,
            "grid_template_columns": null,
            "grid_template_rows": null,
            "height": null,
            "justify_content": null,
            "justify_items": null,
            "left": null,
            "margin": null,
            "max_height": null,
            "max_width": null,
            "min_height": null,
            "min_width": null,
            "object_fit": null,
            "object_position": null,
            "order": null,
            "overflow": null,
            "overflow_x": null,
            "overflow_y": null,
            "padding": null,
            "right": null,
            "top": null,
            "visibility": null,
            "width": null
          }
        },
        "d118878f2ce24d318832e1b810654ea5": {
          "model_module": "@jupyter-widgets/base",
          "model_name": "LayoutModel",
          "model_module_version": "1.2.0",
          "state": {
            "_model_module": "@jupyter-widgets/base",
            "_model_module_version": "1.2.0",
            "_model_name": "LayoutModel",
            "_view_count": null,
            "_view_module": "@jupyter-widgets/base",
            "_view_module_version": "1.2.0",
            "_view_name": "LayoutView",
            "align_content": null,
            "align_items": null,
            "align_self": null,
            "border": null,
            "bottom": null,
            "display": null,
            "flex": null,
            "flex_flow": null,
            "grid_area": null,
            "grid_auto_columns": null,
            "grid_auto_flow": null,
            "grid_auto_rows": null,
            "grid_column": null,
            "grid_gap": null,
            "grid_row": null,
            "grid_template_areas": null,
            "grid_template_columns": null,
            "grid_template_rows": null,
            "height": null,
            "justify_content": null,
            "justify_items": null,
            "left": null,
            "margin": null,
            "max_height": null,
            "max_width": null,
            "min_height": null,
            "min_width": null,
            "object_fit": null,
            "object_position": null,
            "order": null,
            "overflow": null,
            "overflow_x": null,
            "overflow_y": null,
            "padding": null,
            "right": null,
            "top": null,
            "visibility": null,
            "width": null
          }
        },
        "eb9482454cb149b98b0ab553f2aec95a": {
          "model_module": "@jupyter-widgets/controls",
          "model_name": "SliderStyleModel",
          "model_module_version": "1.5.0",
          "state": {
            "_model_module": "@jupyter-widgets/controls",
            "_model_module_version": "1.5.0",
            "_model_name": "SliderStyleModel",
            "_view_count": null,
            "_view_module": "@jupyter-widgets/base",
            "_view_module_version": "1.2.0",
            "_view_name": "StyleView",
            "description_width": "",
            "handle_color": null
          }
        },
        "d77114f0757c4c02b70fd25bcc9e18a8": {
          "model_module": "@jupyter-widgets/base",
          "model_name": "LayoutModel",
          "model_module_version": "1.2.0",
          "state": {
            "_model_module": "@jupyter-widgets/base",
            "_model_module_version": "1.2.0",
            "_model_name": "LayoutModel",
            "_view_count": null,
            "_view_module": "@jupyter-widgets/base",
            "_view_module_version": "1.2.0",
            "_view_name": "LayoutView",
            "align_content": null,
            "align_items": null,
            "align_self": null,
            "border": null,
            "bottom": null,
            "display": null,
            "flex": null,
            "flex_flow": null,
            "grid_area": null,
            "grid_auto_columns": null,
            "grid_auto_flow": null,
            "grid_auto_rows": null,
            "grid_column": null,
            "grid_gap": null,
            "grid_row": null,
            "grid_template_areas": null,
            "grid_template_columns": null,
            "grid_template_rows": null,
            "height": null,
            "justify_content": null,
            "justify_items": null,
            "left": null,
            "margin": null,
            "max_height": null,
            "max_width": null,
            "min_height": null,
            "min_width": null,
            "object_fit": null,
            "object_position": null,
            "order": null,
            "overflow": null,
            "overflow_x": null,
            "overflow_y": null,
            "padding": null,
            "right": null,
            "top": null,
            "visibility": null,
            "width": null
          }
        }
      }
    }
  },
  "cells": [
    {
      "cell_type": "markdown",
      "metadata": {
        "id": "view-in-github",
        "colab_type": "text"
      },
      "source": [
        "<a href=\"https://colab.research.google.com/github/engineerjkk/Image-Similarity/blob/main/Image_Similarity.ipynb\" target=\"_parent\"><img src=\"https://colab.research.google.com/assets/colab-badge.svg\" alt=\"Open In Colab\"/></a>"
      ]
    },
    {
      "cell_type": "markdown",
      "source": [
        "우선 필요한 라이브러리들을 다운로드 받습니다.  \n",
        "그리고 이번 실습에서 사용할 데이터셋인 MNIST 데이터셋 또한 함께 다운로드를 받습니다."
      ],
      "metadata": {
        "id": "F3Wwsxe8gHwo"
      }
    },
    {
      "cell_type": "code",
      "execution_count": null,
      "metadata": {
        "id": "sNxAA5FsLocI"
      },
      "outputs": [],
      "source": [
        "import numpy as np\n",
        "import matplotlib.pyplot as plt\n",
        "from sklearn.datasets import fetch_openml"
      ]
    },
    {
      "cell_type": "code",
      "source": [
        "MNIST=fetch_openml('mnist_784',version=1)"
      ],
      "metadata": {
        "id": "wgMz-SsoLvzJ"
      },
      "execution_count": null,
      "outputs": []
    },
    {
      "cell_type": "markdown",
      "source": [
        "MNIST의 key값을 불러와 확인해보면 실습에서 사용할것은 data와 target이 되겠습니다."
      ],
      "metadata": {
        "id": "z_b1dQH9L8Dw"
      }
    },
    {
      "cell_type": "code",
      "source": [
        "MNIST.keys()"
      ],
      "metadata": {
        "colab": {
          "base_uri": "https://localhost:8080/"
        },
        "id": "Nxmy9u_NL58T",
        "outputId": "645d0c88-3c2f-442f-f7b4-8a549f6e03a0"
      },
      "execution_count": null,
      "outputs": [
        {
          "output_type": "execute_result",
          "data": {
            "text/plain": [
              "dict_keys(['data', 'target', 'frame', 'categories', 'feature_names', 'target_names', 'DESCR', 'details', 'url'])"
            ]
          },
          "metadata": {},
          "execution_count": 5
        }
      ]
    },
    {
      "cell_type": "markdown",
      "source": [
        "데이터의 개수 7만개와 각 이미지에 들어있는 784개의 픽셀들을 나타내고 있습니다. "
      ],
      "metadata": {
        "id": "DUGvt4zoOa4F"
      }
    },
    {
      "cell_type": "code",
      "source": [
        "MNIST['data']"
      ],
      "metadata": {
        "colab": {
          "base_uri": "https://localhost:8080/",
          "height": 424
        },
        "id": "dgPxIpmfL69T",
        "outputId": "ffdf7096-8267-4106-f046-d28d826630ff"
      },
      "execution_count": null,
      "outputs": [
        {
          "output_type": "execute_result",
          "data": {
            "text/plain": [
              "       pixel1  pixel2  pixel3  pixel4  pixel5  pixel6  pixel7  pixel8  pixel9  \\\n",
              "0         0.0     0.0     0.0     0.0     0.0     0.0     0.0     0.0     0.0   \n",
              "1         0.0     0.0     0.0     0.0     0.0     0.0     0.0     0.0     0.0   \n",
              "2         0.0     0.0     0.0     0.0     0.0     0.0     0.0     0.0     0.0   \n",
              "3         0.0     0.0     0.0     0.0     0.0     0.0     0.0     0.0     0.0   \n",
              "4         0.0     0.0     0.0     0.0     0.0     0.0     0.0     0.0     0.0   \n",
              "...       ...     ...     ...     ...     ...     ...     ...     ...     ...   \n",
              "69995     0.0     0.0     0.0     0.0     0.0     0.0     0.0     0.0     0.0   \n",
              "69996     0.0     0.0     0.0     0.0     0.0     0.0     0.0     0.0     0.0   \n",
              "69997     0.0     0.0     0.0     0.0     0.0     0.0     0.0     0.0     0.0   \n",
              "69998     0.0     0.0     0.0     0.0     0.0     0.0     0.0     0.0     0.0   \n",
              "69999     0.0     0.0     0.0     0.0     0.0     0.0     0.0     0.0     0.0   \n",
              "\n",
              "       pixel10  ...  pixel775  pixel776  pixel777  pixel778  pixel779  \\\n",
              "0          0.0  ...       0.0       0.0       0.0       0.0       0.0   \n",
              "1          0.0  ...       0.0       0.0       0.0       0.0       0.0   \n",
              "2          0.0  ...       0.0       0.0       0.0       0.0       0.0   \n",
              "3          0.0  ...       0.0       0.0       0.0       0.0       0.0   \n",
              "4          0.0  ...       0.0       0.0       0.0       0.0       0.0   \n",
              "...        ...  ...       ...       ...       ...       ...       ...   \n",
              "69995      0.0  ...       0.0       0.0       0.0       0.0       0.0   \n",
              "69996      0.0  ...       0.0       0.0       0.0       0.0       0.0   \n",
              "69997      0.0  ...       0.0       0.0       0.0       0.0       0.0   \n",
              "69998      0.0  ...       0.0       0.0       0.0       0.0       0.0   \n",
              "69999      0.0  ...       0.0       0.0       0.0       0.0       0.0   \n",
              "\n",
              "       pixel780  pixel781  pixel782  pixel783  pixel784  \n",
              "0           0.0       0.0       0.0       0.0       0.0  \n",
              "1           0.0       0.0       0.0       0.0       0.0  \n",
              "2           0.0       0.0       0.0       0.0       0.0  \n",
              "3           0.0       0.0       0.0       0.0       0.0  \n",
              "4           0.0       0.0       0.0       0.0       0.0  \n",
              "...         ...       ...       ...       ...       ...  \n",
              "69995       0.0       0.0       0.0       0.0       0.0  \n",
              "69996       0.0       0.0       0.0       0.0       0.0  \n",
              "69997       0.0       0.0       0.0       0.0       0.0  \n",
              "69998       0.0       0.0       0.0       0.0       0.0  \n",
              "69999       0.0       0.0       0.0       0.0       0.0  \n",
              "\n",
              "[70000 rows x 784 columns]"
            ],
            "text/html": [
              "\n",
              "  <div id=\"df-39e2866b-00af-4f91-8038-f29ef281a3b4\">\n",
              "    <div class=\"colab-df-container\">\n",
              "      <div>\n",
              "<style scoped>\n",
              "    .dataframe tbody tr th:only-of-type {\n",
              "        vertical-align: middle;\n",
              "    }\n",
              "\n",
              "    .dataframe tbody tr th {\n",
              "        vertical-align: top;\n",
              "    }\n",
              "\n",
              "    .dataframe thead th {\n",
              "        text-align: right;\n",
              "    }\n",
              "</style>\n",
              "<table border=\"1\" class=\"dataframe\">\n",
              "  <thead>\n",
              "    <tr style=\"text-align: right;\">\n",
              "      <th></th>\n",
              "      <th>pixel1</th>\n",
              "      <th>pixel2</th>\n",
              "      <th>pixel3</th>\n",
              "      <th>pixel4</th>\n",
              "      <th>pixel5</th>\n",
              "      <th>pixel6</th>\n",
              "      <th>pixel7</th>\n",
              "      <th>pixel8</th>\n",
              "      <th>pixel9</th>\n",
              "      <th>pixel10</th>\n",
              "      <th>...</th>\n",
              "      <th>pixel775</th>\n",
              "      <th>pixel776</th>\n",
              "      <th>pixel777</th>\n",
              "      <th>pixel778</th>\n",
              "      <th>pixel779</th>\n",
              "      <th>pixel780</th>\n",
              "      <th>pixel781</th>\n",
              "      <th>pixel782</th>\n",
              "      <th>pixel783</th>\n",
              "      <th>pixel784</th>\n",
              "    </tr>\n",
              "  </thead>\n",
              "  <tbody>\n",
              "    <tr>\n",
              "      <th>0</th>\n",
              "      <td>0.0</td>\n",
              "      <td>0.0</td>\n",
              "      <td>0.0</td>\n",
              "      <td>0.0</td>\n",
              "      <td>0.0</td>\n",
              "      <td>0.0</td>\n",
              "      <td>0.0</td>\n",
              "      <td>0.0</td>\n",
              "      <td>0.0</td>\n",
              "      <td>0.0</td>\n",
              "      <td>...</td>\n",
              "      <td>0.0</td>\n",
              "      <td>0.0</td>\n",
              "      <td>0.0</td>\n",
              "      <td>0.0</td>\n",
              "      <td>0.0</td>\n",
              "      <td>0.0</td>\n",
              "      <td>0.0</td>\n",
              "      <td>0.0</td>\n",
              "      <td>0.0</td>\n",
              "      <td>0.0</td>\n",
              "    </tr>\n",
              "    <tr>\n",
              "      <th>1</th>\n",
              "      <td>0.0</td>\n",
              "      <td>0.0</td>\n",
              "      <td>0.0</td>\n",
              "      <td>0.0</td>\n",
              "      <td>0.0</td>\n",
              "      <td>0.0</td>\n",
              "      <td>0.0</td>\n",
              "      <td>0.0</td>\n",
              "      <td>0.0</td>\n",
              "      <td>0.0</td>\n",
              "      <td>...</td>\n",
              "      <td>0.0</td>\n",
              "      <td>0.0</td>\n",
              "      <td>0.0</td>\n",
              "      <td>0.0</td>\n",
              "      <td>0.0</td>\n",
              "      <td>0.0</td>\n",
              "      <td>0.0</td>\n",
              "      <td>0.0</td>\n",
              "      <td>0.0</td>\n",
              "      <td>0.0</td>\n",
              "    </tr>\n",
              "    <tr>\n",
              "      <th>2</th>\n",
              "      <td>0.0</td>\n",
              "      <td>0.0</td>\n",
              "      <td>0.0</td>\n",
              "      <td>0.0</td>\n",
              "      <td>0.0</td>\n",
              "      <td>0.0</td>\n",
              "      <td>0.0</td>\n",
              "      <td>0.0</td>\n",
              "      <td>0.0</td>\n",
              "      <td>0.0</td>\n",
              "      <td>...</td>\n",
              "      <td>0.0</td>\n",
              "      <td>0.0</td>\n",
              "      <td>0.0</td>\n",
              "      <td>0.0</td>\n",
              "      <td>0.0</td>\n",
              "      <td>0.0</td>\n",
              "      <td>0.0</td>\n",
              "      <td>0.0</td>\n",
              "      <td>0.0</td>\n",
              "      <td>0.0</td>\n",
              "    </tr>\n",
              "    <tr>\n",
              "      <th>3</th>\n",
              "      <td>0.0</td>\n",
              "      <td>0.0</td>\n",
              "      <td>0.0</td>\n",
              "      <td>0.0</td>\n",
              "      <td>0.0</td>\n",
              "      <td>0.0</td>\n",
              "      <td>0.0</td>\n",
              "      <td>0.0</td>\n",
              "      <td>0.0</td>\n",
              "      <td>0.0</td>\n",
              "      <td>...</td>\n",
              "      <td>0.0</td>\n",
              "      <td>0.0</td>\n",
              "      <td>0.0</td>\n",
              "      <td>0.0</td>\n",
              "      <td>0.0</td>\n",
              "      <td>0.0</td>\n",
              "      <td>0.0</td>\n",
              "      <td>0.0</td>\n",
              "      <td>0.0</td>\n",
              "      <td>0.0</td>\n",
              "    </tr>\n",
              "    <tr>\n",
              "      <th>4</th>\n",
              "      <td>0.0</td>\n",
              "      <td>0.0</td>\n",
              "      <td>0.0</td>\n",
              "      <td>0.0</td>\n",
              "      <td>0.0</td>\n",
              "      <td>0.0</td>\n",
              "      <td>0.0</td>\n",
              "      <td>0.0</td>\n",
              "      <td>0.0</td>\n",
              "      <td>0.0</td>\n",
              "      <td>...</td>\n",
              "      <td>0.0</td>\n",
              "      <td>0.0</td>\n",
              "      <td>0.0</td>\n",
              "      <td>0.0</td>\n",
              "      <td>0.0</td>\n",
              "      <td>0.0</td>\n",
              "      <td>0.0</td>\n",
              "      <td>0.0</td>\n",
              "      <td>0.0</td>\n",
              "      <td>0.0</td>\n",
              "    </tr>\n",
              "    <tr>\n",
              "      <th>...</th>\n",
              "      <td>...</td>\n",
              "      <td>...</td>\n",
              "      <td>...</td>\n",
              "      <td>...</td>\n",
              "      <td>...</td>\n",
              "      <td>...</td>\n",
              "      <td>...</td>\n",
              "      <td>...</td>\n",
              "      <td>...</td>\n",
              "      <td>...</td>\n",
              "      <td>...</td>\n",
              "      <td>...</td>\n",
              "      <td>...</td>\n",
              "      <td>...</td>\n",
              "      <td>...</td>\n",
              "      <td>...</td>\n",
              "      <td>...</td>\n",
              "      <td>...</td>\n",
              "      <td>...</td>\n",
              "      <td>...</td>\n",
              "      <td>...</td>\n",
              "    </tr>\n",
              "    <tr>\n",
              "      <th>69995</th>\n",
              "      <td>0.0</td>\n",
              "      <td>0.0</td>\n",
              "      <td>0.0</td>\n",
              "      <td>0.0</td>\n",
              "      <td>0.0</td>\n",
              "      <td>0.0</td>\n",
              "      <td>0.0</td>\n",
              "      <td>0.0</td>\n",
              "      <td>0.0</td>\n",
              "      <td>0.0</td>\n",
              "      <td>...</td>\n",
              "      <td>0.0</td>\n",
              "      <td>0.0</td>\n",
              "      <td>0.0</td>\n",
              "      <td>0.0</td>\n",
              "      <td>0.0</td>\n",
              "      <td>0.0</td>\n",
              "      <td>0.0</td>\n",
              "      <td>0.0</td>\n",
              "      <td>0.0</td>\n",
              "      <td>0.0</td>\n",
              "    </tr>\n",
              "    <tr>\n",
              "      <th>69996</th>\n",
              "      <td>0.0</td>\n",
              "      <td>0.0</td>\n",
              "      <td>0.0</td>\n",
              "      <td>0.0</td>\n",
              "      <td>0.0</td>\n",
              "      <td>0.0</td>\n",
              "      <td>0.0</td>\n",
              "      <td>0.0</td>\n",
              "      <td>0.0</td>\n",
              "      <td>0.0</td>\n",
              "      <td>...</td>\n",
              "      <td>0.0</td>\n",
              "      <td>0.0</td>\n",
              "      <td>0.0</td>\n",
              "      <td>0.0</td>\n",
              "      <td>0.0</td>\n",
              "      <td>0.0</td>\n",
              "      <td>0.0</td>\n",
              "      <td>0.0</td>\n",
              "      <td>0.0</td>\n",
              "      <td>0.0</td>\n",
              "    </tr>\n",
              "    <tr>\n",
              "      <th>69997</th>\n",
              "      <td>0.0</td>\n",
              "      <td>0.0</td>\n",
              "      <td>0.0</td>\n",
              "      <td>0.0</td>\n",
              "      <td>0.0</td>\n",
              "      <td>0.0</td>\n",
              "      <td>0.0</td>\n",
              "      <td>0.0</td>\n",
              "      <td>0.0</td>\n",
              "      <td>0.0</td>\n",
              "      <td>...</td>\n",
              "      <td>0.0</td>\n",
              "      <td>0.0</td>\n",
              "      <td>0.0</td>\n",
              "      <td>0.0</td>\n",
              "      <td>0.0</td>\n",
              "      <td>0.0</td>\n",
              "      <td>0.0</td>\n",
              "      <td>0.0</td>\n",
              "      <td>0.0</td>\n",
              "      <td>0.0</td>\n",
              "    </tr>\n",
              "    <tr>\n",
              "      <th>69998</th>\n",
              "      <td>0.0</td>\n",
              "      <td>0.0</td>\n",
              "      <td>0.0</td>\n",
              "      <td>0.0</td>\n",
              "      <td>0.0</td>\n",
              "      <td>0.0</td>\n",
              "      <td>0.0</td>\n",
              "      <td>0.0</td>\n",
              "      <td>0.0</td>\n",
              "      <td>0.0</td>\n",
              "      <td>...</td>\n",
              "      <td>0.0</td>\n",
              "      <td>0.0</td>\n",
              "      <td>0.0</td>\n",
              "      <td>0.0</td>\n",
              "      <td>0.0</td>\n",
              "      <td>0.0</td>\n",
              "      <td>0.0</td>\n",
              "      <td>0.0</td>\n",
              "      <td>0.0</td>\n",
              "      <td>0.0</td>\n",
              "    </tr>\n",
              "    <tr>\n",
              "      <th>69999</th>\n",
              "      <td>0.0</td>\n",
              "      <td>0.0</td>\n",
              "      <td>0.0</td>\n",
              "      <td>0.0</td>\n",
              "      <td>0.0</td>\n",
              "      <td>0.0</td>\n",
              "      <td>0.0</td>\n",
              "      <td>0.0</td>\n",
              "      <td>0.0</td>\n",
              "      <td>0.0</td>\n",
              "      <td>...</td>\n",
              "      <td>0.0</td>\n",
              "      <td>0.0</td>\n",
              "      <td>0.0</td>\n",
              "      <td>0.0</td>\n",
              "      <td>0.0</td>\n",
              "      <td>0.0</td>\n",
              "      <td>0.0</td>\n",
              "      <td>0.0</td>\n",
              "      <td>0.0</td>\n",
              "      <td>0.0</td>\n",
              "    </tr>\n",
              "  </tbody>\n",
              "</table>\n",
              "<p>70000 rows × 784 columns</p>\n",
              "</div>\n",
              "      <button class=\"colab-df-convert\" onclick=\"convertToInteractive('df-39e2866b-00af-4f91-8038-f29ef281a3b4')\"\n",
              "              title=\"Convert this dataframe to an interactive table.\"\n",
              "              style=\"display:none;\">\n",
              "        \n",
              "  <svg xmlns=\"http://www.w3.org/2000/svg\" height=\"24px\"viewBox=\"0 0 24 24\"\n",
              "       width=\"24px\">\n",
              "    <path d=\"M0 0h24v24H0V0z\" fill=\"none\"/>\n",
              "    <path d=\"M18.56 5.44l.94 2.06.94-2.06 2.06-.94-2.06-.94-.94-2.06-.94 2.06-2.06.94zm-11 1L8.5 8.5l.94-2.06 2.06-.94-2.06-.94L8.5 2.5l-.94 2.06-2.06.94zm10 10l.94 2.06.94-2.06 2.06-.94-2.06-.94-.94-2.06-.94 2.06-2.06.94z\"/><path d=\"M17.41 7.96l-1.37-1.37c-.4-.4-.92-.59-1.43-.59-.52 0-1.04.2-1.43.59L10.3 9.45l-7.72 7.72c-.78.78-.78 2.05 0 2.83L4 21.41c.39.39.9.59 1.41.59.51 0 1.02-.2 1.41-.59l7.78-7.78 2.81-2.81c.8-.78.8-2.07 0-2.86zM5.41 20L4 18.59l7.72-7.72 1.47 1.35L5.41 20z\"/>\n",
              "  </svg>\n",
              "      </button>\n",
              "      \n",
              "  <style>\n",
              "    .colab-df-container {\n",
              "      display:flex;\n",
              "      flex-wrap:wrap;\n",
              "      gap: 12px;\n",
              "    }\n",
              "\n",
              "    .colab-df-convert {\n",
              "      background-color: #E8F0FE;\n",
              "      border: none;\n",
              "      border-radius: 50%;\n",
              "      cursor: pointer;\n",
              "      display: none;\n",
              "      fill: #1967D2;\n",
              "      height: 32px;\n",
              "      padding: 0 0 0 0;\n",
              "      width: 32px;\n",
              "    }\n",
              "\n",
              "    .colab-df-convert:hover {\n",
              "      background-color: #E2EBFA;\n",
              "      box-shadow: 0px 1px 2px rgba(60, 64, 67, 0.3), 0px 1px 3px 1px rgba(60, 64, 67, 0.15);\n",
              "      fill: #174EA6;\n",
              "    }\n",
              "\n",
              "    [theme=dark] .colab-df-convert {\n",
              "      background-color: #3B4455;\n",
              "      fill: #D2E3FC;\n",
              "    }\n",
              "\n",
              "    [theme=dark] .colab-df-convert:hover {\n",
              "      background-color: #434B5C;\n",
              "      box-shadow: 0px 1px 3px 1px rgba(0, 0, 0, 0.15);\n",
              "      filter: drop-shadow(0px 1px 2px rgba(0, 0, 0, 0.3));\n",
              "      fill: #FFFFFF;\n",
              "    }\n",
              "  </style>\n",
              "\n",
              "      <script>\n",
              "        const buttonEl =\n",
              "          document.querySelector('#df-39e2866b-00af-4f91-8038-f29ef281a3b4 button.colab-df-convert');\n",
              "        buttonEl.style.display =\n",
              "          google.colab.kernel.accessAllowed ? 'block' : 'none';\n",
              "\n",
              "        async function convertToInteractive(key) {\n",
              "          const element = document.querySelector('#df-39e2866b-00af-4f91-8038-f29ef281a3b4');\n",
              "          const dataTable =\n",
              "            await google.colab.kernel.invokeFunction('convertToInteractive',\n",
              "                                                     [key], {});\n",
              "          if (!dataTable) return;\n",
              "\n",
              "          const docLinkHtml = 'Like what you see? Visit the ' +\n",
              "            '<a target=\"_blank\" href=https://colab.research.google.com/notebooks/data_table.ipynb>data table notebook</a>'\n",
              "            + ' to learn more about interactive tables.';\n",
              "          element.innerHTML = '';\n",
              "          dataTable['output_type'] = 'display_data';\n",
              "          await google.colab.output.renderOutput(dataTable, element);\n",
              "          const docLink = document.createElement('div');\n",
              "          docLink.innerHTML = docLinkHtml;\n",
              "          element.appendChild(docLink);\n",
              "        }\n",
              "      </script>\n",
              "    </div>\n",
              "  </div>\n",
              "  "
            ]
          },
          "metadata": {},
          "execution_count": 6
        }
      ]
    },
    {
      "cell_type": "markdown",
      "source": [
        "28 x 28 크기의 숫자이미지가 벡터화되어서 저장이 됐다라고 보시면 되겠습니다. "
      ],
      "metadata": {
        "id": "lpQFtxLTOios"
      }
    },
    {
      "cell_type": "code",
      "source": [
        "np.sqrt(784)"
      ],
      "metadata": {
        "colab": {
          "base_uri": "https://localhost:8080/"
        },
        "id": "u46BcpQ5OY5C",
        "outputId": "34dd3380-28b1-452d-aa7a-f0b4981208d0"
      },
      "execution_count": null,
      "outputs": [
        {
          "output_type": "execute_result",
          "data": {
            "text/plain": [
              "28.0"
            ]
          },
          "metadata": {},
          "execution_count": 7
        }
      ]
    },
    {
      "cell_type": "markdown",
      "source": [
        "행은 7만개가있고 그 행에 들어있는 클래스가 있습니다. 이 값들이 0~9사이로 되어있는것을 볼 수 있습니다. "
      ],
      "metadata": {
        "id": "4QFuZlDUOtcU"
      }
    },
    {
      "cell_type": "code",
      "source": [
        "MNIST['target']"
      ],
      "metadata": {
        "colab": {
          "base_uri": "https://localhost:8080/"
        },
        "id": "DQl_ISIOOhkV",
        "outputId": "3807cd65-2f11-47a5-929d-09f60541cf17"
      },
      "execution_count": null,
      "outputs": [
        {
          "output_type": "execute_result",
          "data": {
            "text/plain": [
              "0        5\n",
              "1        0\n",
              "2        4\n",
              "3        1\n",
              "4        9\n",
              "        ..\n",
              "69995    2\n",
              "69996    3\n",
              "69997    4\n",
              "69998    5\n",
              "69999    6\n",
              "Name: class, Length: 70000, dtype: category\n",
              "Categories (10, object): ['0', '1', '2', '3', ..., '6', '7', '8', '9']"
            ]
          },
          "metadata": {},
          "execution_count": 8
        }
      ]
    },
    {
      "cell_type": "code",
      "source": [
        "images=MNIST['data'].to_numpy()/255.\n",
        "labels=MNIST['target'].to_numpy().astype(np.int64)"
      ],
      "metadata": {
        "id": "4uVohSo5OsVv"
      },
      "execution_count": null,
      "outputs": []
    },
    {
      "cell_type": "code",
      "source": [
        "labels"
      ],
      "metadata": {
        "colab": {
          "base_uri": "https://localhost:8080/"
        },
        "id": "_xUBBER_O8lL",
        "outputId": "2eb4cd78-4e78-43c9-d9e7-dc6b8325499a"
      },
      "execution_count": null,
      "outputs": [
        {
          "output_type": "execute_result",
          "data": {
            "text/plain": [
              "array([5, 0, 4, ..., 4, 5, 6])"
            ]
          },
          "metadata": {},
          "execution_count": 10
        }
      ]
    },
    {
      "cell_type": "code",
      "source": [
        "from ipywidgets import interact"
      ],
      "metadata": {
        "id": "MdKHmysgO9kv"
      },
      "execution_count": null,
      "outputs": []
    },
    {
      "cell_type": "markdown",
      "source": [
        "이렇게 MNIST데이터셋을 Visualize 시켜보면 아래와 같게되구요. interact를 사용했기때문에 마우스로 index값을 조정해가며 다른 값들을 함께 확인하실 수 있습니다."
      ],
      "metadata": {
        "id": "gbBTj64JgjGQ"
      }
    },
    {
      "cell_type": "code",
      "source": [
        "@interact(index=(0,1000))\n",
        "def show_image(index=0):\n",
        "  plt.figure(figsize=(2,2))\n",
        "  plt.title(f\"label: {labels[index]}\")\n",
        "  plt.imshow(images[index].reshape(28,28))\n",
        "  plt.show()"
      ],
      "metadata": {
        "colab": {
          "base_uri": "https://localhost:8080/",
          "height": 205,
          "referenced_widgets": [
            "fe647162543d4ce8bf08a11eafeb6ebc",
            "6d5c599fd5314339aa5f60b1259583fd",
            "5e036437b99b43edad5d8f4494952c62",
            "ce065fc03ff24a6685702573074a5e77",
            "f521dc0813e64dccbd21670ec7bd0262",
            "2600c2cc16a240db827ab828fb0a84f8",
            "7bc85b8f9eb642f39b7250105338fd80"
          ]
        },
        "id": "odJellm7O_-Q",
        "outputId": "096a72eb-bc60-4b92-b1a0-363136abad14"
      },
      "execution_count": null,
      "outputs": [
        {
          "output_type": "display_data",
          "data": {
            "text/plain": [
              "interactive(children=(IntSlider(value=0, description='index', max=1000), Output()), _dom_classes=('widget-inte…"
            ],
            "application/vnd.jupyter.widget-view+json": {
              "version_major": 2,
              "version_minor": 0,
              "model_id": "fe647162543d4ce8bf08a11eafeb6ebc"
            }
          },
          "metadata": {}
        }
      ]
    },
    {
      "cell_type": "markdown",
      "source": [
        "![Untitled](https://s3-us-west-2.amazonaws.com/secure.notion-static.com/123bd8ed-48e6-43b7-a06f-289f1d3107b6/Untitled.png)![image.png](data:image/png;base64,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)"
      ],
      "metadata": {
        "id": "85EsBbmgPnOe"
      }
    },
    {
      "cell_type": "markdown",
      "source": [
        "# Euclidean Distance"
      ],
      "metadata": {
        "id": "ZlVGfXn0Ss5z"
      }
    },
    {
      "cell_type": "code",
      "source": [
        "def distance(x0,x1):\n",
        "  x=x0-x1\n",
        "  distance=np.sqrt(x@x)\n",
        "  return distance"
      ],
      "metadata": {
        "id": "sL8kBAp7Pdh4"
      },
      "execution_count": null,
      "outputs": []
    },
    {
      "cell_type": "markdown",
      "source": [
        "for문에서 첫번째는 비교할 이미지 그리고 두번째는 비교 대상의 이미지입니다."
      ],
      "metadata": {
        "id": "M-Kjy-XOP1_1"
      }
    },
    {
      "cell_type": "code",
      "source": [
        "distances=[]\n",
        "for i in range(len(images[:300])):\n",
        "  for j in range(len(images[:300])):\n",
        "    distances.append(distance(images[i],images[j]))"
      ],
      "metadata": {
        "id": "yray9f4zPy6P"
      },
      "execution_count": null,
      "outputs": []
    },
    {
      "cell_type": "code",
      "source": [
        "len(distances)"
      ],
      "metadata": {
        "colab": {
          "base_uri": "https://localhost:8080/"
        },
        "id": "EwJnpVMoQU8f",
        "outputId": "127e5c0d-0853-4c09-a255-bb867e800eef"
      },
      "execution_count": null,
      "outputs": [
        {
          "output_type": "execute_result",
          "data": {
            "text/plain": [
              "90000"
            ]
          },
          "metadata": {},
          "execution_count": 18
        }
      ]
    },
    {
      "cell_type": "markdown",
      "source": [
        "먼저 Euclidian Distance를 통해서 확인해봅니다.   \n",
        "첫번째 이미지와 두번째 이미지간의 Euclidian Distance 값을 확인해볼수 있으며 히스토그램 또한 역시 함게 확인하실 수 있습니다.  \n",
        "당연히 같은 index 이미지는 Euclidian Distance 값이 0이 되게 됩니다."
      ],
      "metadata": {
        "id": "lUx1r8zogvvR"
      }
    },
    {
      "cell_type": "code",
      "source": [
        "@interact(first=(0,299),second=(0,299))\n",
        "def show_distance_img(first,second):\n",
        "  plt.figure(figsize=(8,4))\n",
        "  f=images[first].reshape(28,28)\n",
        "  s=images[second].reshape(28,28)\n",
        "\n",
        "  ax0=plt.subplot2grid((2,2),(0,0))\n",
        "  ax1=plt.subplot2grid((2,2),(1,0))\n",
        "  ax2=plt.subplot2grid((2,2),(0,1),rowspan=2)\n",
        "\n",
        "  ax0.imshow(f,cmap='gray')\n",
        "  ax1.imshow(s,cmap='gray')\n",
        "  ax2.hist(np.array(distances),bins=50)\n",
        "  d=distance(f.ravel(),s.ravel()) #실제 이미지의 거리를 계산해서 어디에 distance가 보이는지를 보여줄 것이다.\n",
        "  ax2.axvline(x=d,ymin=0,ymax=40000,color='C1',linewidth=4)\n",
        "  ax2.text(0,16000,f\"Distance is {d:.2f}\",size=12)\n",
        "  ax2.set(xlabel='distance',ylabel='num of images')"
      ],
      "metadata": {
        "colab": {
          "base_uri": "https://localhost:8080/",
          "height": 583,
          "referenced_widgets": [
            "900aac7d97224a469e2e406ce1f8a92f",
            "3e358cc581a54a4ca73aedd88c4e352f",
            "76bf83d570d4401f9af8591867b852e4",
            "d745f19ca082437a8505dcdd0e33b59a",
            "5af62e4341cf4500b39bfc6f25845d62",
            "059be90a266241338038b403847ae8c8",
            "ae04e39346814a57b5f9bf16034da503",
            "71d3fff48fa048c1bbc3659011e014a0",
            "77a8fd3234cc44adb64415149c82dbab",
            "602ccd1234a84651b4630bd999272dae"
          ]
        },
        "id": "TtgO1vCpQkDU",
        "outputId": "21f80427-45e4-4319-cc12-f51b95195c39"
      },
      "execution_count": null,
      "outputs": [
        {
          "output_type": "display_data",
          "data": {
            "text/plain": [
              "interactive(children=(IntSlider(value=149, description='first', max=299), IntSlider(value=149, description='se…"
            ],
            "application/vnd.jupyter.widget-view+json": {
              "version_major": 2,
              "version_minor": 0,
              "model_id": "900aac7d97224a469e2e406ce1f8a92f"
            }
          },
          "metadata": {}
        }
      ]
    },
    {
      "cell_type": "markdown",
      "source": [
        "다음은 Cosine Similarity를 통해 확인합니다. "
      ],
      "metadata": {
        "id": "7wNHAYang9ey"
      }
    },
    {
      "cell_type": "code",
      "source": [
        "def angle(x0,x1):\n",
        "  nominator=x0@x1 # 분자\n",
        "  denominator=np.sqrt((x0@x0)*(x1@x1))\n",
        "  angle=np.arccos(nominator/denominator)#arc을통해서 각도를 구해준다. \n",
        "  return angle"
      ],
      "metadata": {
        "id": "3Uf9WfDVR_y3"
      },
      "execution_count": null,
      "outputs": []
    },
    {
      "cell_type": "code",
      "source": [
        "angles =[]\n",
        "for i in range(len(images[:300])):\n",
        "  for j in range(len(images[:300])):\n",
        "    angles.append(angle(images[i],images[j]))"
      ],
      "metadata": {
        "id": "UnYW4ySrTfA2"
      },
      "execution_count": null,
      "outputs": []
    },
    {
      "cell_type": "code",
      "source": [
        "len(angles)"
      ],
      "metadata": {
        "colab": {
          "base_uri": "https://localhost:8080/"
        },
        "id": "Ifch3sxrTidQ",
        "outputId": "fa704bff-7ac8-43c6-b7c9-a6555896479d"
      },
      "execution_count": null,
      "outputs": [
        {
          "output_type": "execute_result",
          "data": {
            "text/plain": [
              "90000"
            ]
          },
          "metadata": {},
          "execution_count": 26
        }
      ]
    },
    {
      "cell_type": "code",
      "source": [
        "@interact(first=(0,299),second=(0,299))\n",
        "def show_distance_img(first,second):\n",
        "  plt.figure(figsize=(8,4))\n",
        "  f=images[first].reshape(28,28)\n",
        "  s=images[second].reshape(28,28)\n",
        "\n",
        "  ax0=plt.subplot2grid((2,2),(0,0))\n",
        "  ax1=plt.subplot2grid((2,2),(1,0))\n",
        "  ax2=plt.subplot2grid((2,2),(0,1),rowspan=2)\n",
        "\n",
        "  ax0.imshow(f,cmap='gray')\n",
        "  ax1.imshow(s,cmap='gray')\n",
        "  ax2.hist(np.array(angles),bins=50)\n",
        "  ang=angle(f.ravel(),s.ravel()) #실제 이미지의 거리를 계산해서 어디에 distance가 보이는지를 보여줄 것이다.\n",
        "  ax2.axvline(x=ang,ymin=0,ymax=40000,color='C1',linewidth=4)\n",
        "  ax2.text(0,16000,f\"Angle is {ang:.2f}\",size=12)\n",
        "  ax2.set(xlabel='distance',ylabel='num of images')\n",
        "  plt.show()"
      ],
      "metadata": {
        "colab": {
          "base_uri": "https://localhost:8080/",
          "height": 546,
          "referenced_widgets": [
            "44320835e745406dac7b379c74346ae5",
            "787d3675b4cb4f488d8f0488ee2825b6",
            "dd326ef74b5948d7b843726348457695",
            "5f3a0a7fdf164645b92804749c76cf53",
            "acf8054f154a4ed09621491619319430",
            "714ecc1c130e45f383996f0d584e467f",
            "806a07ccd97b43169ce4fff33c72f5f1",
            "fbca5273e35349d7a3e6e9e0a656ffa2",
            "40bfa28f041f4de793a321b00a3dd087",
            "969c3937fa5a4d9e8a6156722ed2e10c"
          ]
        },
        "id": "FH4eu6jFTqHQ",
        "outputId": "aac99217-c8b2-4d8d-e7d9-634b15d9a9fb"
      },
      "execution_count": null,
      "outputs": [
        {
          "output_type": "display_data",
          "data": {
            "text/plain": [
              "interactive(children=(IntSlider(value=149, description='first', max=299), IntSlider(value=149, description='se…"
            ],
            "application/vnd.jupyter.widget-view+json": {
              "version_major": 2,
              "version_minor": 0,
              "model_id": "44320835e745406dac7b379c74346ae5"
            }
          },
          "metadata": {}
        }
      ]
    },
    {
      "cell_type": "markdown",
      "source": [
        "# 가장 유사한 후보이미지 추출하기"
      ],
      "metadata": {
        "id": "Idl_v49jUU0G"
      }
    },
    {
      "cell_type": "code",
      "source": [
        "def most_similar_dist_image(index):\n",
        "  distances=np.zeros((300))\n",
        "  for i in range(300):\n",
        "    distances[i]=distance(images[index],images[i])#비교할이미지, 비교당할2번째 이미지\n",
        "  most_similar_index=np.where(distances==sorted(distances)[1])[0]#본인자신은 0번이니 그 다음 가까운이미지 index를 반환한다.\n",
        "  return most_similar_index"
      ],
      "metadata": {
        "id": "rV4MER5JT3Fj"
      },
      "execution_count": null,
      "outputs": []
    },
    {
      "cell_type": "markdown",
      "source": [
        "distance 거리가 가장 가까운 이미지  \n",
        "실습을 진행해보면 꽤나 높은 정확도로 가장 유사한 이미지를 추출함을 알 수 있습니다."
      ],
      "metadata": {
        "id": "Dfno2rF8YqF5"
      }
    },
    {
      "cell_type": "code",
      "source": [
        "@interact(index=(0,299))\n",
        "def show_most_similar_distance(index=0):\n",
        "  plt.figure(figsize=(6,4))\n",
        "  f=images[index].reshape(28,28)\n",
        "  most_similar_index=most_similar_dist_image(index)[0]\n",
        "  s=images[most_similar_index].reshape(28,28)\n",
        "\n",
        "  ax0=plt.subplot(121)\n",
        "  ax1=plt.subplot(122)\n",
        "  ax0.imshow(f,cmap='gray')\n",
        "  ax0.set_title(f\"original:{index}\")\n",
        "  ax1.imshow(s,cmap='gray')\n",
        "  ax1.set_title(f\"most similar:{most_similar_index}\")\n",
        "  \n"
      ],
      "metadata": {
        "colab": {
          "base_uri": "https://localhost:8080/",
          "height": 248,
          "referenced_widgets": [
            "dd3c8339313b445ca79255063303b23e",
            "b71a8593b6d4435d83af17631df9d226",
            "5fb12307ea2144b2b0917536ef0eae16",
            "79602a012f6e4c8f9f4fb7a40703da61",
            "b0868ade6595472abc7a5d051980b874",
            "ffc0ac122c794c519172a1e706dacf87",
            "f3e7f0533cb045938663f1df8f89e56d"
          ]
        },
        "id": "OVYWXBYqXwIk",
        "outputId": "173a3d49-d239-4b44-dd54-1bfab6310ca7"
      },
      "execution_count": null,
      "outputs": [
        {
          "output_type": "display_data",
          "data": {
            "text/plain": [
              "interactive(children=(IntSlider(value=0, description='index', max=299), Output()), _dom_classes=('widget-inter…"
            ],
            "application/vnd.jupyter.widget-view+json": {
              "version_major": 2,
              "version_minor": 0,
              "model_id": "dd3c8339313b445ca79255063303b23e"
            }
          },
          "metadata": {}
        }
      ]
    },
    {
      "cell_type": "code",
      "source": [
        "def most_similar_angle_image(index):\n",
        "  angles=np.zeros((300))\n",
        "  for i in range(300):\n",
        "    angles[i]=angle(images[index],images[i])\n",
        "  most_similar_index=np.where(angles==sorted(angles)[1])[0]\n",
        "  return most_similar_index\n"
      ],
      "metadata": {
        "id": "nJWXd_pqYVwn"
      },
      "execution_count": null,
      "outputs": []
    },
    {
      "cell_type": "code",
      "source": [
        "@interact(index=(0,299))\n",
        "def show_most_similar_angle(index=0):\n",
        "  plt.figure(figsize=(6,4))\n",
        "  f=images[index].reshape(28,28)\n",
        "  most_similar_index=most_similar_angle_image(index)[0]#가장 유사한 인덱스값을 뽑고\n",
        "  s=images[most_similar_index].reshape(28,28)#두번째 추출할이미지를 뽑는다.\n",
        "\n",
        "  ax0=plt.subplot(121)\n",
        "  ax1=plt.subplot(122)\n",
        "  ax0.imshow(f,cmap='gray')\n",
        "  ax0.set_title(f\"original:{index}\")\n",
        "  ax1.imshow(s,cmap='gray')\n",
        "  ax1.set_title(f\"most similar:{most_similar_index}\")\n",
        "  \n"
      ],
      "metadata": {
        "colab": {
          "base_uri": "https://localhost:8080/",
          "height": 248,
          "referenced_widgets": [
            "fa54a03540a640afba8f360f74c7be92",
            "8793955671fb4809869be0bd63be75eb",
            "70d230251da644b78846622b35dd422c",
            "7a7efea238b9480180eb56cae14eab8a",
            "d118878f2ce24d318832e1b810654ea5",
            "eb9482454cb149b98b0ab553f2aec95a",
            "d77114f0757c4c02b70fd25bcc9e18a8"
          ]
        },
        "id": "L-HdsEPuZVAB",
        "outputId": "589593ab-93a2-41a5-cf1d-86d5a50e58fb"
      },
      "execution_count": null,
      "outputs": [
        {
          "output_type": "display_data",
          "data": {
            "text/plain": [
              "interactive(children=(IntSlider(value=0, description='index', max=299), Output()), _dom_classes=('widget-inter…"
            ],
            "application/vnd.jupyter.widget-view+json": {
              "version_major": 2,
              "version_minor": 0,
              "model_id": "fa54a03540a640afba8f360f74c7be92"
            }
          },
          "metadata": {}
        }
      ]
    },
    {
      "cell_type": "markdown",
      "source": [
        "# 결론\n",
        "\n",
        "유사도를 비교할때 euclidean을 할지 cosine similarity로할때 결과가 다르니 데이터에 따라 잘 선택해야합니다.\n",
        "\n",
        "따라서 손글씨 숫자이미지로 비교를 해보았는데, 각 방법에 대한 결과값을 비교했습니다.\n",
        "결과값은 차이가있지만 두 기법 모두 꽤 유사하게 일치함을 볼 수 있습니다."
      ],
      "metadata": {
        "id": "889nRIOVZpYH"
      }
    },
    {
      "cell_type": "code",
      "source": [
        ""
      ],
      "metadata": {
        "id": "0F0gZvCTZirK"
      },
      "execution_count": null,
      "outputs": []
    }
  ]
}